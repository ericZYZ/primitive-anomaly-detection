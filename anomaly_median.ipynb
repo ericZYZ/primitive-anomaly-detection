{
 "cells": [
  {
   "cell_type": "code",
   "execution_count": 1,
   "metadata": {},
   "outputs": [
    {
     "data": {
      "text/plain": [
       "<module 'logging' from 'D:\\\\Anaconda3\\\\lib\\\\logging\\\\__init__.py'>"
      ]
     },
     "execution_count": 1,
     "metadata": {},
     "output_type": "execute_result"
    }
   ],
   "source": [
    "import csv\n",
    "import numpy as np\n",
    "import logging\n",
    "import matplotlib.pyplot as plt\n",
    "from imp import reload\n",
    "reload(logging)"
   ]
  },
  {
   "cell_type": "markdown",
   "metadata": {},
   "source": [
    "# Anomaly Detection by Moving Median\n",
    "Before we move on to use the global statistics, I want to examine the performance of the detector using moving median instead of moving average. The moving median method provides a more robust estimate of the trend compare to the moving average method. The effect of the anomalies on the moving median method is less severe than the moving average method."
   ]
  },
  {
   "cell_type": "code",
   "execution_count": 11,
   "metadata": {},
   "outputs": [],
   "source": [
    "%%capture\n",
    "\n",
    "reload(logging)\n",
    "logging.basicConfig(filename='anomaly_median_final.log', filemode='w', level=logging.DEBUG)\n",
    "with open('task_data_small.csv') as csv_file:\n",
    "    csv_reader = csv.reader(csv_file, delimiter=',')\n",
    "    \n",
    "    merchant_dict = {} # store the merchant ID under each account\n",
    "    amount_dict = {} # store the transaction amount for corresponding merchant ID under each account\n",
    "    median_dict = {} # store the moving median under each account\n",
    "    std_dict = {} # store the moving standard deviation under each account\n",
    "    anomaly_median_dict = {} # store the index of anomaly transactions under each account\n",
    "    account_count_dict = {} # count the number of uncorrupted transactions under rach account\n",
    "    \n",
    "    anomaly_median_count = 0 # count the total number of anomalies\n",
    "    \n",
    "    for row in csv_reader:\n",
    "        print(\"====================\")\n",
    "        \n",
    "        # first ensure only the data that is not corrupted is processed\n",
    "        if len(row)==3 and row[0]!='' and row[1]!='' and row[2]!='' and row[0]!='X' and row[1]!='X' and row[2]!='X': \n",
    "            account = row[0].strip() # account ID\n",
    "            merchant = row[1].strip() # merchant ID\n",
    "            amount = float(row[2]) # transaction amount\n",
    "            print(\"Account: \"+account)\n",
    "            print(\"Merchant: \"+merchant)\n",
    "            print(\"Transaction amount: \"+row[2])\n",
    "            \n",
    "            # current account appeared before\n",
    "            if account in merchant_dict:\n",
    "                current_median = median_dict[account][-1]\n",
    "                current_std = std_dict[account][-1]\n",
    "                diff = amount - current_median\n",
    "                \n",
    "                account_count_dict[account] += 1\n",
    "                \n",
    "                merchant_dict[account].append(merchant)\n",
    "                amount_dict[account].append(amount)\n",
    "\n",
    "                new_median = np.median(amount_dict[account])\n",
    "                new_std = np.std(amount_dict[account])\n",
    "                median_dict[account].append(new_median)\n",
    "                std_dict[account].append(new_std)\n",
    "                print(\"Median of transaction amount so far: \"+str(new_median))\n",
    "                print(\"Std of transaction amount so far: \"+str(new_std))\n",
    "                \n",
    "                # there is only one transaction for the current account, or the current transaction is not flagged up\n",
    "                # because it does not deviate from the current median for more than 3 std\n",
    "                if (len(std_dict[account])==2 and current_std==0) or (diff>=-3*current_std and diff<=3*current_std):\n",
    "                    print(\"Status: normal\")\n",
    "                \n",
    "                # current transaction is flagged up because it deviates from the current mean for more than 3 std\n",
    "                else:\n",
    "                    anomaly_median_count += 1\n",
    "                    \n",
    "                    if account in anomaly_median_dict:\n",
    "                        anomaly_median_dict[account].append(account_count_dict[account])\n",
    "                    else:\n",
    "                        anomaly_median_dict[account]=[account_count_dict[account]]\n",
    "                    \n",
    "                    #logging.basicConfig(filename='anomaly_median2.log',level=logging.DEBUG)\n",
    "                    logging.warning('Flag: '+'account: '+account+' merchant: '+merchant+' amount: '+str(amount))\n",
    "                    print(\"Status: abnormal. The event has been recorded in log file.\")\n",
    "                    \n",
    "            \n",
    "            # first time seeing the current account\n",
    "            else:\n",
    "                print(\"Median of transaction amount so far: \"+str(amount))\n",
    "                print(\"Std of transaction amount so far: 0\")\n",
    "                print(\"Status: normal\")\n",
    "        \n",
    "                merchant_dict[account] = [merchant]\n",
    "                amount_dict[account] = [amount]\n",
    "                median_dict[account] = [amount]\n",
    "                std_dict[account] = [0]\n",
    "                \n",
    "                account_count_dict[account]=0\n",
    "        \n",
    "        # corrupted data\n",
    "        else:\n",
    "            account = row[0].strip() # account ID\n",
    "            merchant = row[1].strip() # merchant ID\n",
    "            print(\"Account: \"+account)\n",
    "            print(\"Merchant: \"+merchant)\n",
    "            print('The data of this transaction is corrupted' )"
   ]
  },
  {
   "cell_type": "markdown",
   "metadata": {},
   "source": [
    "# Analysis\n",
    "The moving median method marked more data as anomalous compared with the moving average method. This is mainly because now we avoid averaging anomalies into the trend, thus the detector is more sensible to data that deviate from the mean by a fairly large margin. \n",
    "\n",
    "As a comparison, we show the transactions of the same account 255046487. From the following graph we can see there is one more anomaly detected by the moving median method compared with the moving average method. The 6th transaction is also marked as anomalous, which is more sensible when looking at the transaction curve."
   ]
  },
  {
   "cell_type": "code",
   "execution_count": 12,
   "metadata": {},
   "outputs": [
    {
     "name": "stdout",
     "output_type": "stream",
     "text": [
      "There are 17658 anomalies recorded.\n"
     ]
    }
   ],
   "source": [
    "print('There are '+str(anomaly_median_count)+' anomalies recorded.') # number of anomalies recorded"
   ]
  },
  {
   "cell_type": "code",
   "execution_count": 13,
   "metadata": {},
   "outputs": [
    {
     "data": {
      "image/png": "[encoded data removed]",
      "text/plain": [
       "<matplotlib.figure.Figure at 0x1f5eb041630>"
      ]
     },
     "metadata": {},
     "output_type": "display_data"
    }
   ],
   "source": [
    "account = '255046487'\n",
    "plt.plot(amount_dict[account]) # print all the transactions \n",
    "plt.title('Uncorrupted transactions of account '+account+' with anomalies marked by red')\n",
    "plt.xlabel('Number of transactions')\n",
    "plt.ylabel('Transaction amount')\n",
    "if account in anomaly_median_dict: # if the account has anomalies, mark them by red points\n",
    "    for i in range(len(anomaly_median_dict[account])):\n",
    "        plt.plot(anomaly_median_dict[account][i], amount_dict[account][anomaly_median_dict[account][i]], 'r*')"
   ]
  }
 ],
 "metadata": {
  "kernelspec": {
   "display_name": "Python 3",
   "language": "python",
   "name": "python3"
  },
  "language_info": {
   "codemirror_mode": {
    "name": "ipython",
    "version": 3
   },
   "file_extension": ".py",
   "mimetype": "text/x-python",
   "name": "python",
   "nbconvert_exporter": "python",
   "pygments_lexer": "ipython3",
   "version": "3.5.4"
  }
 },
 "nbformat": 4,
 "nbformat_minor": 2
}
